{
 "cells": [
  {
   "cell_type": "markdown",
   "id": "7294cec8-40bd-4bb4-baae-a4a5862d363a",
   "metadata": {},
   "source": [
    "# This is my First  Jupyter Notebook "
   ]
  },
  {
   "cell_type": "code",
   "execution_count": 1,
   "id": "f5d8d934-b1c6-4336-a614-81f851f883f8",
   "metadata": {},
   "outputs": [
    {
     "name": "stdout",
     "output_type": "stream",
     "text": [
      "Hello world\n"
     ]
    }
   ],
   "source": [
    "print(\"Hello world\")"
   ]
  },
  {
   "cell_type": "markdown",
   "id": "1f7757c1-4811-4fb4-8178-acc4ac8ba1e8",
   "metadata": {},
   "source": [
    "# Start From Basic Variable"
   ]
  },
  {
   "cell_type": "markdown",
   "id": "e0d1a597-f1c6-4202-b98d-90da2457f102",
   "metadata": {},
   "source": [
    "* Variable is a container which hold Data Like *"
   ]
  },
  {
   "cell_type": "markdown",
   "id": "da3dc8da-3898-4d11-95ff-0e522112caf3",
   "metadata": {},
   "source": [
    "### Creating a variable in Python is super straightforward. You just pick a name and assign a value to it using the = sign. "
   ]
  },
  {
   "cell_type": "code",
   "execution_count": 2,
   "id": "d27ed659-4113-4a04-af31-ace2d8f125b7",
   "metadata": {},
   "outputs": [
    {
     "name": "stdout",
     "output_type": "stream",
     "text": [
      "1728.1\n"
     ]
    }
   ],
   "source": [
    "# Here we can see the monthly expences of home\n",
    "#these are all variable which hold different type of data\n",
    "\n",
    "rent= 1220\n",
    "gas = 202.5\n",
    "groceries = 305.6\n",
    "\n",
    "total_money = rent + gas + groceries\n",
    "print(total_money)\n",
    "\n",
    "\n",
    "# An integer variable\n",
    "age = 25\n",
    "print(type())\n",
    "\n",
    "# A string variable\n",
    "name = \"Ravi\"\n",
    "\n",
    "# A list variable\n",
    "colors = [\"Red\", \"Green\", \"Blue\"]\n",
    "\n"
   ]
  },
  {
   "cell_type": "code",
   "execution_count": null,
   "id": "3c35948d-6626-4253-856d-bac3bb5a36a0",
   "metadata": {},
   "outputs": [],
   "source": []
  }
 ],
 "metadata": {
  "kernelspec": {
   "display_name": "Python 3 (ipykernel)",
   "language": "python",
   "name": "python3"
  },
  "language_info": {
   "codemirror_mode": {
    "name": "ipython",
    "version": 3
   },
   "file_extension": ".py",
   "mimetype": "text/x-python",
   "name": "python",
   "nbconvert_exporter": "python",
   "pygments_lexer": "ipython3",
   "version": "3.12.6"
  }
 },
 "nbformat": 4,
 "nbformat_minor": 5
}
