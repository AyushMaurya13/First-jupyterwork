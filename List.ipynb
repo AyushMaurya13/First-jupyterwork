{
 "cells": [
  {
   "cell_type": "markdown",
   "id": "a6dac665-8bab-4d68-8d40-f970e312fac1",
   "metadata": {},
   "source": [
    "# List"
   ]
  },
  {
   "cell_type": "markdown",
   "id": "188781e1-9cb2-4161-9fa2-c8bc335ff7af",
   "metadata": {},
   "source": [
    "# Indexing"
   ]
  },
  {
   "cell_type": "markdown",
   "id": "f8f79863-88b8-4965-b4e5-d78a60e4b1ac",
   "metadata": {},
   "source": [
    "### We are going to take a look at lists in Python. A list is a sequenced collection of different objects such as integers, strings, and even other lists as well. The address of each element within a list is called an index. An index is used to access and refer to items within a list."
   ]
  },
  {
   "cell_type": "markdown",
   "id": "2801b176-2de4-4c39-aa57-e7f52a5eb4c4",
   "metadata": {},
   "source": [
    "### To create a list, type the list within square brackets [ ], with your content inside the parenthesis and separated by commas. Let us try it!"
   ]
  },
  {
   "cell_type": "code",
   "execution_count": null,
   "id": "9780477a-0e29-4581-ba6a-72bc54b88662",
   "metadata": {},
   "outputs": [],
   "source": [
    "# Create a list\n",
    "\n",
    "L = [\"Michael Jackson\", 10.1, 1982]\n",
    "L"
   ]
  },
  {
   "cell_type": "code",
   "execution_count": null,
   "id": "61332e67-2bbe-463c-ae24-0844755319b4",
   "metadata": {},
   "outputs": [],
   "source": [
    "# Print the elements on each index\n",
    "\n",
    "print('the same element using negative and positive indexing:\\n Postive:',L[0],\n",
    "'\\n Negative:' , L[-3]  )\n",
    "print('the same element using negative and positive indexing:\\n Postive:',L[1],\n",
    "'\\n Negative:' , L[-2]  )\n",
    "print('the same element using negative and positive indexing:\\n Postive:',L[2],\n",
    "'\\n Negative:' , L[-1]  )"
   ]
  },
  {
   "cell_type": "markdown",
   "id": "428647b2-5167-4ac8-9022-1674ac0a1060",
   "metadata": {},
   "source": [
    "#### the same element using negative and positive indexing:\n",
    " #### Negative: Michael Jackson\n",
    "#### Negative: 10.1\n",
    "#### the same element using negative and positive indexing:\n",
    "#### Postive: 1982 \n",
    " #### Negative: 1982"
   ]
  },
  {
   "cell_type": "markdown",
   "id": "ac9dfcff-1505-4a65-83ed-dabf63c8b9ec",
   "metadata": {},
   "source": [
    "# List Content"
   ]
  },
  {
   "cell_type": "markdown",
   "id": "4839be66-3896-49f5-b9a5-52dea142766a",
   "metadata": {},
   "source": [
    "### Lists can contain strings, floats, and integers. We can nest other lists, and we can also nest tuples and other data structures. The same indexing conventions apply for nesting:"
   ]
  },
  {
   "cell_type": "code",
   "execution_count": null,
   "id": "1eaa4411-c217-4d7c-a034-94a3e0ba872c",
   "metadata": {},
   "outputs": [],
   "source": [
    "# Sample List\n",
    "\n",
    "[\"Michael Jackson\", 10.1, 1982, [1, 2], (\"A\", 1)]"
   ]
  },
  {
   "cell_type": "markdown",
   "id": "ed7005bc-c861-4568-a284-67747f7493bf",
   "metadata": {},
   "source": [
    "# List Operations"
   ]
  },
  {
   "cell_type": "markdown",
   "id": "ed5f1bc2-36b8-43e1-b1f0-a26d3a1db869",
   "metadata": {},
   "source": [
    "#### We can also perform slicing in lists. For example, if we want the last two elements, we use the following command:"
   ]
  },
  {
   "cell_type": "code",
   "execution_count": null,
   "id": "624dcdad-1cfb-4174-aba6-852f39cf8273",
   "metadata": {},
   "outputs": [],
   "source": [
    "# Sample List\n",
    "\n",
    "L = [\"Michael Jackson\", 10.1,1982,\"MJ\",1]\n",
    "L"
   ]
  },
  {
   "cell_type": "code",
   "execution_count": null,
   "id": "c9233598-139e-4a3f-88e3-91b5cf4f8197",
   "metadata": {},
   "outputs": [],
   "source": [
    "# List slicing\n",
    "\n",
    "L[3:5]"
   ]
  },
  {
   "cell_type": "code",
   "execution_count": null,
   "id": "6a16ca2a-59d9-4290-8029-6d2f78e5c6bc",
   "metadata": {},
   "outputs": [],
   "source": [
    "We can use the method extend to add new elements to the list:"
   ]
  },
  {
   "cell_type": "code",
   "execution_count": null,
   "id": "14f476f4-7285-492b-8727-45184db0ba2c",
   "metadata": {},
   "outputs": [],
   "source": [
    "# Use extend to add elements to list\n",
    "\n",
    "L = [ \"Michael Jackson\", 10.2]\n",
    "L.extend(['pop', 10])\n",
    "L"
   ]
  },
  {
   "cell_type": "code",
   "execution_count": null,
   "id": "f8e766d8-0721-4eda-9e87-02c2432305d2",
   "metadata": {},
   "outputs": [],
   "source": [
    "# Use append to add elements to list\n",
    "\n",
    "L = [ \"Michael Jackson\", 10.2]\n",
    "L.append(['pop', 10])\n",
    "L"
   ]
  },
  {
   "cell_type": "code",
   "execution_count": null,
   "id": "3c197f09-e3ce-4047-b056-4a99f311764e",
   "metadata": {},
   "outputs": [],
   "source": [
    "# Use append to add elements to list\n",
    "\n",
    "L.append(['a','b'])\n",
    "L"
   ]
  },
  {
   "cell_type": "code",
   "execution_count": null,
   "id": "767b364a-6a6c-47d6-a282-d4d790edf031",
   "metadata": {},
   "outputs": [],
   "source": [
    "# Change the element based on the index\n",
    "\n",
    "A = [\"disco\", 10, 1.2]\n",
    "print('Before change:', A)\n",
    "A[0] = 'hard rock'\n",
    "print('After change:', A)"
   ]
  },
  {
   "cell_type": "code",
   "execution_count": null,
   "id": "909c2106-1c9f-430b-8cc4-693f10d953f9",
   "metadata": {},
   "outputs": [],
   "source": [
    "# Delete the element based on the index\n",
    "\n",
    "print('Before change:', A)\n",
    "del(A[0])\n",
    "print('After change:', A)"
   ]
  },
  {
   "cell_type": "code",
   "execution_count": null,
   "id": "d03f951b-a7d4-49ea-8438-309104254c54",
   "metadata": {},
   "outputs": [],
   "source": [
    "# Split the string, default is by space\n",
    "\n",
    "'hard rock'.split()"
   ]
  },
  {
   "cell_type": "code",
   "execution_count": null,
   "id": "7141bbf1-f738-43a3-884d-68990a784414",
   "metadata": {},
   "outputs": [],
   "source": [
    "# Split the string by comma\n",
    "\n",
    "'A,B,C,D'.split(',')"
   ]
  },
  {
   "cell_type": "markdown",
   "id": "3933f197-a9a3-4d03-9844-d9b7bd46b89e",
   "metadata": {},
   "source": [
    "# Copy and Clone list"
   ]
  },
  {
   "cell_type": "code",
   "execution_count": null,
   "id": "01af0c3b-99b7-4f7d-8812-5a0566e7ab06",
   "metadata": {},
   "outputs": [],
   "source": [
    "# Copy (copy by reference) the list A\n",
    "\n",
    "A = [\"hard rock\", 10, 1.2]\n",
    "B = A\n",
    "print('A:', A)\n",
    "print('B:', B)"
   ]
  },
  {
   "cell_type": "code",
   "execution_count": null,
   "id": "76a3e2ed-9394-4c40-8fff-23a360d99984",
   "metadata": {},
   "outputs": [],
   "source": [
    "# Examine the copy by reference\n",
    "\n",
    "print('B[0]:', B[0])\n",
    "A[0] = \"banana\"\n",
    "print('B[0]:', B[0])"
   ]
  },
  {
   "cell_type": "code",
   "execution_count": null,
   "id": "5c081913-f2f2-4794-84a3-4386acd2662e",
   "metadata": {},
   "outputs": [],
   "source": [
    "# Clone (clone by value) the list A\n",
    "\n",
    "B = A[:]\n",
    "B"
   ]
  },
  {
   "cell_type": "code",
   "execution_count": null,
   "id": "9752d604-8029-4910-88ec-c59965aa419d",
   "metadata": {},
   "outputs": [],
   "source": [
    "print('B[0]:', B[0])\n",
    "A[0] = \"hard rock\"\n",
    "print('B[0]:', B[0])"
   ]
  },
  {
   "cell_type": "markdown",
   "id": "a365c0ac-e99f-4749-b448-08f96975b0a0",
   "metadata": {},
   "source": [
    "# Quiz on List"
   ]
  },
  {
   "cell_type": "markdown",
   "id": "dcdeaee7-e0a7-49f2-b37e-a8342802bba0",
   "metadata": {},
   "source": [
    "Create a list a_list, with the following elements 1, hello, [1,2,3] and True"
   ]
  },
  {
   "cell_type": "code",
   "execution_count": null,
   "id": "5e613be8-1dea-4552-a7f4-d84c4da3d098",
   "metadata": {},
   "outputs": [],
   "source": [
    "Find the value stored at index 1 of a_list."
   ]
  },
  {
   "cell_type": "code",
   "execution_count": null,
   "id": "7e1af1dd-efda-4bff-89e4-41a7f87bbdb9",
   "metadata": {},
   "outputs": [],
   "source": [
    "\n",
    "Retrieve the elements stored at index 1, 2 and 3 of a_list."
   ]
  },
  {
   "cell_type": "code",
   "execution_count": null,
   "id": "53168a62-31a8-4b7f-8481-9a94ca45a928",
   "metadata": {},
   "outputs": [],
   "source": []
  }
 ],
 "metadata": {
  "kernelspec": {
   "display_name": "Python 3 (ipykernel)",
   "language": "python",
   "name": "python3"
  },
  "language_info": {
   "codemirror_mode": {
    "name": "ipython",
    "version": 3
   },
   "file_extension": ".py",
   "mimetype": "text/x-python",
   "name": "python",
   "nbconvert_exporter": "python",
   "pygments_lexer": "ipython3",
   "version": "3.12.6"
  }
 },
 "nbformat": 4,
 "nbformat_minor": 5
}
